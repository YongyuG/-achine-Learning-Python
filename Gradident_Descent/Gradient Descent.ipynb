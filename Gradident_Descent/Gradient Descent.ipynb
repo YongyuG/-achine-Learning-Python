{
 "cells": [
  {
   "cell_type": "code",
   "execution_count": 3,
   "metadata": {
    "collapsed": true
   },
   "outputs": [],
   "source": [
    "#Gradient Descent Demo\n",
    "#Start from review range() and arange() in numpy\n",
    "import numpy as np\n",
    "import matplotlib.pyplot as plt"
   ]
  },
  {
   "cell_type": "code",
   "execution_count": 4,
   "metadata": {},
   "outputs": [
    {
     "name": "stdout",
     "output_type": "stream",
     "text": [
      "range(0, 5)\n",
      "[0 1 2 3 4]\n",
      "range(1, 5)\n",
      "[1 2 3 4]\n",
      "range(1, 10, 2)\n",
      "[1 3 5 7 9]\n",
      "[-200 -199 -198 -197 -196 -195 -194 -193 -192 -191 -190 -189 -188 -187 -186\n",
      " -185 -184 -183 -182 -181 -180 -179 -178 -177 -176 -175 -174 -173 -172 -171\n",
      " -170 -169 -168 -167 -166 -165 -164 -163 -162 -161 -160 -159 -158 -157 -156\n",
      " -155 -154 -153 -152 -151 -150 -149 -148 -147 -146 -145 -144 -143 -142 -141\n",
      " -140 -139 -138 -137 -136 -135 -134 -133 -132 -131 -130 -129 -128 -127 -126\n",
      " -125 -124 -123 -122 -121 -120 -119 -118 -117 -116 -115 -114 -113 -112 -111\n",
      " -110 -109 -108 -107 -106 -105 -104 -103 -102 -101]\n"
     ]
    }
   ],
   "source": [
    "print(range(5))\n",
    "print(np.arange(5))\n",
    "print(range(1,5))\n",
    "print(np.arange(1,5))\n",
    "print(range(1,10,2))\n",
    "print(np.arange(1,10,2))\n",
    "print(np.arange(-200,-100,1))"
   ]
  },
  {
   "cell_type": "code",
   "execution_count": 34,
   "metadata": {},
   "outputs": [
    {
     "data": {
      "image/png": "[encoded data removed]",
      "text/plain": [
       "<matplotlib.figure.Figure at 0x7f67b4145128>"
      ]
     },
     "metadata": {},
     "output_type": "display_data"
    }
   ],
   "source": [
    "#Gradient Descent \n",
    "#Data is from Machine Learning Course provided by Hongli Li, taiwan\n",
    "#x=pokemon original cp,\n",
    "#y=pokemon cp after evolution\n",
    "#The best parameter w and b is giben which is 2.67 and =188.4\n",
    "\n",
    "\n",
    "x_data=[338.,333.,328.,207.,226.,25.,179.,60.,208.,606.]\n",
    "y_data=[640.,633.,619.,393.,428.,27.,193.,66.,226.,1591.]\n",
    "\n",
    "#try visualise data and review plt\n",
    "plt.plot(x_data,y_data,'o')\n",
    "plt.show()\n",
    "\n",
    "x=np.arange(-200,-100,1) #bias\n",
    "y=np.arange(-5,5,0.1)    #weight\n",
    "Z=np.zeros((len(x),len(y)))\n",
    "#print(x.shape,y.shape,Z.shape)\n",
    "\n",
    "X,Y=np.meshgrid(x,y)\n",
    "#print(X.shape,Y.shape)\n",
    "for i in range(len(x)):\n",
    "    for j in range(len(y)):\n",
    "        b=x[i]\n",
    "        w=y[j]\n",
    "        Z[j][i]=0\n",
    "        ##Compute loss function\n",
    "        for n in range(len(x_data)):\n",
    "            #Because we are going to plot the contour of loss fucntion\n",
    "            #So compute the loss function in this case\n",
    "            Z[j][i]=Z[j][i]+(y_data[n]-b-w*x_data[n])**2 \n",
    "        Z[j][i]=Z[j][i]/len(x_data)\n"
   ]
  },
  {
   "cell_type": "code",
   "execution_count": 37,
   "metadata": {},
   "outputs": [
    {
     "data": {
      "image/png": "[encoded data removed]",
      "text/plain": [
       "<matplotlib.figure.Figure at 0x7f67c0a78ba8>"
      ]
     },
     "metadata": {},
     "output_type": "display_data"
    }
   ],
   "source": [
    "#initial value\n",
    "w=-4\n",
    "b=-120\n",
    "lr=1\n",
    "iteration=100000\n",
    "\n",
    "#Because the unity lr cannot make the GD to reach the best solution\n",
    "#Try to use different lr for parameter\n",
    "lr_b=0\n",
    "lr_w=0\n",
    "\n",
    "b_history=[b]\n",
    "w_history=[w]\n",
    "\n",
    "\n",
    "#Iteration for doing GD\n",
    "for i in range(iteration):\n",
    "    w_grad=0\n",
    "    b_grad=0\n",
    "    \n",
    "    #Gradident of w and b for loss function\n",
    "    #w_grad=sum(from 1 to n, 2*(real output - function output)(-x))\n",
    "    #      =sum(from 1 to n, 2*(y - (b+wx))(-x))\n",
    "    #b_grad=sum(from 1 to n, 2*(real output - function output)(-1))\n",
    "    #      =sum(from 1 to n, 2*(y - (b+wx))(-1))\n",
    "    \n",
    "    for n in range(len(x_data)):\n",
    "        w_grad=w_grad+2*(y_data[n]-(b+w*x_data[n]))*(-x_data[n])\n",
    "        b_grad=b_grad+2*(y_data[n]-(b+w*x_data[n]))*(-1)\n",
    "    \n",
    "    lr_w=lr_w+w_grad**2\n",
    "    lr_b=lr_b+b_grad**2\n",
    "    \n",
    "    \n",
    "    #update parameter for next iteration\n",
    "    w=w-lr/np.sqrt(lr_w)*w_grad\n",
    "    b=b-lr/np.sqrt(lr_b)*b_grad\n",
    "    \n",
    "    #store parameter for ploting\n",
    "    b_history.append(b)\n",
    "    w_history.append(w)\n",
    "\n",
    "\n",
    "plt.contourf(x,y,Z,50,alpha=0.5,cmap=plt.get_cmap('jet'))\n",
    "plt.plot([-188.4],[2.64],'x',ms=12,markeredgewidth=3,color='orange')\n",
    "plt.plot(b_history,w_history,'o-',ms=3,lw=1.5,color='black')\n",
    "plt.xlim(-200,-100)\n",
    "plt.ylim(-5,5)\n",
    "plt.xlabel(r'$b$',fontsize=16)\n",
    "plt.ylabel(r'$w$',fontsize=16)\n",
    "plt.show()\n",
    "\n"
   ]
  },
  {
   "cell_type": "code",
   "execution_count": null,
   "metadata": {},
   "outputs": [],
   "source": []
  }
 ],
 "metadata": {
  "kernelspec": {
   "display_name": "Python 3",
   "language": "python",
   "name": "python3"
  },
  "language_info": {
   "codemirror_mode": {
    "name": "ipython",
    "version": 3
   },
   "file_extension": ".py",
   "mimetype": "text/x-python",
   "name": "python",
   "nbconvert_exporter": "python",
   "pygments_lexer": "ipython3",
   "version": "3.6.2"
  }
 },
 "nbformat": 4,
 "nbformat_minor": 2
}
